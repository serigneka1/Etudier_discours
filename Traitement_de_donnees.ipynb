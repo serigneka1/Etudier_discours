{
 "cells": [
  {
   "cell_type": "markdown",
   "id": "4599bbea",
   "metadata": {},
   "source": [
    "**Situation:** <br>\n",
    "Tu a été embauché dans le cadre de la campagne electorale de Joe Bidden et mon rôle est d'aider le candidat à paufiner sa stratégie sur ces discours lors de ses différentes prises de parole.\n",
    "Marie, une de mes collègue est une spécialiste des aspects politiques de l'élection. \n",
    "Je dois alors travailler étroitement avec elle afin de l'aider à traiter efficacement les données qui lui ont été confiées. \n",
    "Ma première mission est d'analyser les différents discours de Donald Trump, actuel président et candidat à l'élection.\n",
    "Marie dispose dans son ordinateurs un dossier 'Speeches' qui contients les discours officels de Donald Trump entre 2019 et 2020.\n"
   ]
  },
  {
   "cell_type": "markdown",
   "id": "0280380e",
   "metadata": {},
   "source": [
    "### Après avoir regardé les fichiers, je me rend compte qu'il faudrait peut être mettre en qualité les données pour les avoir sous forme d'un dataframe facilement manipulable."
   ]
  },
  {
   "cell_type": "code",
   "execution_count": 1,
   "id": "e11ddd0f",
   "metadata": {},
   "outputs": [
    {
     "name": "stdout",
     "output_type": "stream",
     "text": [
      "\u001b[1m\u001b[36mSpeeches\u001b[m\u001b[m/                    cleaned-speeches\r\n",
      "Traitement_de_donnees.ipynb\r\n"
     ]
    }
   ],
   "source": [
    "ls"
   ]
  },
  {
   "cell_type": "code",
   "execution_count": 2,
   "id": "8c1c3bce",
   "metadata": {},
   "outputs": [],
   "source": [
    "from os import listdir"
   ]
  },
  {
   "cell_type": "code",
   "execution_count": 3,
   "id": "6712af02",
   "metadata": {},
   "outputs": [
    {
     "data": {
      "text/plain": [
       "['FayettevilleSep9_2019.txt',\n",
       " 'TupeloNov1_2019.txt',\n",
       " 'NewHampshireAug15_2019.txt',\n",
       " 'HendersonSep13_2020.txt',\n",
       " 'OhioSep21_2020.txt',\n",
       " 'PhoenixFeb19_2020.txt',\n",
       " 'BattleCreekDec19_2019.txt',\n",
       " 'PittsburghSep22_2020.txt',\n",
       " 'TexasSep23_2019.txt',\n",
       " 'ColoradorSpringsFeb20_2020.txt',\n",
       " 'LatrobeSep3_2020.txt',\n",
       " 'DallasOct17_2019.txt',\n",
       " 'DesMoinesJan30_2020.txt',\n",
       " 'MinneapolisOct10_2019.txt',\n",
       " 'YumaAug18_2020.txt',\n",
       " 'ToledoJan9_2020.txt',\n",
       " 'CharlotteMar2_2020.txt',\n",
       " 'Winston-SalemSep8_2020.txt',\n",
       " 'TulsaJun20_2020.txt',\n",
       " 'NewMexicoSep16_2019.txt',\n",
       " 'HersheyDec10_2019.txt',\n",
       " 'NewHampshireFeb10_2020.txt',\n",
       " 'LasVegasFeb21_2020.txt',\n",
       " 'NewHampshireAug28_2020.txt',\n",
       " 'MindenSep12_2020.txt',\n",
       " 'FreelandSep10_2020.txt',\n",
       " 'CharlestonFeb28_2020.txt',\n",
       " 'MosineeSep17_2020.txt',\n",
       " 'MilwaukeeJan14_2020.txt',\n",
       " 'LexingtonNov4_2019.txt',\n",
       " 'BemidjiSep18_2020.txt',\n",
       " 'CincinnatiAug1_2019.txt',\n",
       " 'FayettevilleSep19_2020.txt',\n",
       " 'WildwoodJan28_2020.txt',\n",
       " 'GreenvilleJul17_2019.txt']"
      ]
     },
     "execution_count": 3,
     "metadata": {},
     "output_type": "execute_result"
    }
   ],
   "source": [
    "noms_fichiers=listdir(\"Speeches\")\n",
    "noms_fichiers"
   ]
  },
  {
   "cell_type": "code",
   "execution_count": 4,
   "id": "6454eb19",
   "metadata": {},
   "outputs": [],
   "source": [
    "import pandas as pd"
   ]
  },
  {
   "cell_type": "code",
   "execution_count": 5,
   "id": "7325f35f",
   "metadata": {},
   "outputs": [
    {
     "data": {
      "text/html": [
       "<div>\n",
       "<style scoped>\n",
       "    .dataframe tbody tr th:only-of-type {\n",
       "        vertical-align: middle;\n",
       "    }\n",
       "\n",
       "    .dataframe tbody tr th {\n",
       "        vertical-align: top;\n",
       "    }\n",
       "\n",
       "    .dataframe thead th {\n",
       "        text-align: right;\n",
       "    }\n",
       "</style>\n",
       "<table border=\"1\" class=\"dataframe\">\n",
       "  <thead>\n",
       "    <tr style=\"text-align: right;\">\n",
       "      <th></th>\n",
       "      <th>Nom_du_Fichier</th>\n",
       "      <th>Contenu</th>\n",
       "    </tr>\n",
       "  </thead>\n",
       "  <tbody>\n",
       "    <tr>\n",
       "      <th>0</th>\n",
       "      <td>NaN</td>\n",
       "      <td>NaN</td>\n",
       "    </tr>\n",
       "    <tr>\n",
       "      <th>1</th>\n",
       "      <td>NaN</td>\n",
       "      <td>NaN</td>\n",
       "    </tr>\n",
       "    <tr>\n",
       "      <th>2</th>\n",
       "      <td>NaN</td>\n",
       "      <td>NaN</td>\n",
       "    </tr>\n",
       "    <tr>\n",
       "      <th>3</th>\n",
       "      <td>NaN</td>\n",
       "      <td>NaN</td>\n",
       "    </tr>\n",
       "    <tr>\n",
       "      <th>4</th>\n",
       "      <td>NaN</td>\n",
       "      <td>NaN</td>\n",
       "    </tr>\n",
       "  </tbody>\n",
       "</table>\n",
       "</div>"
      ],
      "text/plain": [
       "  Nom_du_Fichier Contenu\n",
       "0            NaN     NaN\n",
       "1            NaN     NaN\n",
       "2            NaN     NaN\n",
       "3            NaN     NaN\n",
       "4            NaN     NaN"
      ]
     },
     "execution_count": 5,
     "metadata": {},
     "output_type": "execute_result"
    }
   ],
   "source": [
    "df=pd.DataFrame(index=range(len(noms_fichiers)), columns=[\"Nom_du_Fichier\", \"Contenu\"])\n",
    "df.head()"
   ]
  },
  {
   "cell_type": "code",
   "execution_count": 6,
   "id": "fd8ce0b5",
   "metadata": {},
   "outputs": [
    {
     "data": {
      "text/html": [
       "<div>\n",
       "<style scoped>\n",
       "    .dataframe tbody tr th:only-of-type {\n",
       "        vertical-align: middle;\n",
       "    }\n",
       "\n",
       "    .dataframe tbody tr th {\n",
       "        vertical-align: top;\n",
       "    }\n",
       "\n",
       "    .dataframe thead th {\n",
       "        text-align: right;\n",
       "    }\n",
       "</style>\n",
       "<table border=\"1\" class=\"dataframe\">\n",
       "  <thead>\n",
       "    <tr style=\"text-align: right;\">\n",
       "      <th></th>\n",
       "      <th>Nom_du_Fichier</th>\n",
       "      <th>Contenu</th>\n",
       "    </tr>\n",
       "  </thead>\n",
       "  <tbody>\n",
       "    <tr>\n",
       "      <th>0</th>\n",
       "      <td>FayettevilleSep9_2019.txt</td>\n",
       "      <td>Thank you everybody. Thank you and Vice Presi...</td>\n",
       "    </tr>\n",
       "    <tr>\n",
       "      <th>1</th>\n",
       "      <td>TupeloNov1_2019.txt</td>\n",
       "      <td>ell, thank you very much. And hello, Tupelo. T...</td>\n",
       "    </tr>\n",
       "    <tr>\n",
       "      <th>2</th>\n",
       "      <td>NewHampshireAug15_2019.txt</td>\n",
       "      <td>Thank you very much everybody. Thank you. Wow...</td>\n",
       "    </tr>\n",
       "    <tr>\n",
       "      <th>3</th>\n",
       "      <td>HendersonSep13_2020.txt</td>\n",
       "      <td>Thank you, thank you. Wow. Wow, and I'm thrill...</td>\n",
       "    </tr>\n",
       "    <tr>\n",
       "      <th>4</th>\n",
       "      <td>OhioSep21_2020.txt</td>\n",
       "      <td>Wow, that's a big crowd. This is a big crowd. ...</td>\n",
       "    </tr>\n",
       "  </tbody>\n",
       "</table>\n",
       "</div>"
      ],
      "text/plain": [
       "               Nom_du_Fichier  \\\n",
       "0   FayettevilleSep9_2019.txt   \n",
       "1         TupeloNov1_2019.txt   \n",
       "2  NewHampshireAug15_2019.txt   \n",
       "3     HendersonSep13_2020.txt   \n",
       "4          OhioSep21_2020.txt   \n",
       "\n",
       "                                             Contenu  \n",
       "0   Thank you everybody. Thank you and Vice Presi...  \n",
       "1  ell, thank you very much. And hello, Tupelo. T...  \n",
       "2   Thank you very much everybody. Thank you. Wow...  \n",
       "3  Thank you, thank you. Wow. Wow, and I'm thrill...  \n",
       "4  Wow, that's a big crowd. This is a big crowd. ...  "
      ]
     },
     "execution_count": 6,
     "metadata": {},
     "output_type": "execute_result"
    }
   ],
   "source": [
    "for i, f_name in enumerate(noms_fichiers):\n",
    "    with open(\"Speeches/\"+f_name, \"r\", encoding=\"utf-8\") as f:\n",
    "        f_contenu= f.readlines()\n",
    "    \n",
    "    df.at[i, \"Nom_du_Fichier\"]=f_name\n",
    "    df.at[i, \"Contenu\"]=f_contenu[0]\n",
    "    \n",
    "df.head()"
   ]
  },
  {
   "cell_type": "code",
   "execution_count": 7,
   "id": "e61a0547",
   "metadata": {},
   "outputs": [],
   "source": [
    "mois=[\"Jan\", \"Feb\", \"Mar\", \"Apr\", \"Mai\", \"Jun\", \"Jul\", \"Aug\", \"Sep\", \"Oct\", \"Nov\", \"Dec\"]"
   ]
  },
  {
   "cell_type": "code",
   "execution_count": 8,
   "id": "391e0102",
   "metadata": {},
   "outputs": [],
   "source": [
    "def separerVille(v):\n",
    "    for m in mois:\n",
    "        if (m in v):\n",
    "            ville= v[:v.find(m)]\n",
    "    return ville"
   ]
  },
  {
   "cell_type": "code",
   "execution_count": 9,
   "id": "508dd273",
   "metadata": {},
   "outputs": [
    {
     "data": {
      "text/html": [
       "<div>\n",
       "<style scoped>\n",
       "    .dataframe tbody tr th:only-of-type {\n",
       "        vertical-align: middle;\n",
       "    }\n",
       "\n",
       "    .dataframe tbody tr th {\n",
       "        vertical-align: top;\n",
       "    }\n",
       "\n",
       "    .dataframe thead th {\n",
       "        text-align: right;\n",
       "    }\n",
       "</style>\n",
       "<table border=\"1\" class=\"dataframe\">\n",
       "  <thead>\n",
       "    <tr style=\"text-align: right;\">\n",
       "      <th></th>\n",
       "      <th>Nom_du_Fichier</th>\n",
       "      <th>Contenu</th>\n",
       "      <th>Ville</th>\n",
       "    </tr>\n",
       "  </thead>\n",
       "  <tbody>\n",
       "    <tr>\n",
       "      <th>0</th>\n",
       "      <td>FayettevilleSep9_2019.txt</td>\n",
       "      <td>Thank you everybody. Thank you and Vice Presi...</td>\n",
       "      <td>Fayetteville</td>\n",
       "    </tr>\n",
       "    <tr>\n",
       "      <th>1</th>\n",
       "      <td>TupeloNov1_2019.txt</td>\n",
       "      <td>ell, thank you very much. And hello, Tupelo. T...</td>\n",
       "      <td>Tupelo</td>\n",
       "    </tr>\n",
       "    <tr>\n",
       "      <th>2</th>\n",
       "      <td>NewHampshireAug15_2019.txt</td>\n",
       "      <td>Thank you very much everybody. Thank you. Wow...</td>\n",
       "      <td>NewHampshire</td>\n",
       "    </tr>\n",
       "    <tr>\n",
       "      <th>3</th>\n",
       "      <td>HendersonSep13_2020.txt</td>\n",
       "      <td>Thank you, thank you. Wow. Wow, and I'm thrill...</td>\n",
       "      <td>Henderson</td>\n",
       "    </tr>\n",
       "    <tr>\n",
       "      <th>4</th>\n",
       "      <td>OhioSep21_2020.txt</td>\n",
       "      <td>Wow, that's a big crowd. This is a big crowd. ...</td>\n",
       "      <td>Ohio</td>\n",
       "    </tr>\n",
       "  </tbody>\n",
       "</table>\n",
       "</div>"
      ],
      "text/plain": [
       "               Nom_du_Fichier  \\\n",
       "0   FayettevilleSep9_2019.txt   \n",
       "1         TupeloNov1_2019.txt   \n",
       "2  NewHampshireAug15_2019.txt   \n",
       "3     HendersonSep13_2020.txt   \n",
       "4          OhioSep21_2020.txt   \n",
       "\n",
       "                                             Contenu         Ville  \n",
       "0   Thank you everybody. Thank you and Vice Presi...  Fayetteville  \n",
       "1  ell, thank you very much. And hello, Tupelo. T...        Tupelo  \n",
       "2   Thank you very much everybody. Thank you. Wow...  NewHampshire  \n",
       "3  Thank you, thank you. Wow. Wow, and I'm thrill...     Henderson  \n",
       "4  Wow, that's a big crowd. This is a big crowd. ...          Ohio  "
      ]
     },
     "execution_count": 9,
     "metadata": {},
     "output_type": "execute_result"
    }
   ],
   "source": [
    "df[\"Ville\"]=df.Nom_du_Fichier.apply(separerVille)\n",
    "df.head()"
   ]
  },
  {
   "cell_type": "code",
   "execution_count": 10,
   "id": "f08772e1",
   "metadata": {},
   "outputs": [],
   "source": [
    "def separerDate(c):\n",
    "    Date=c.Nom_du_Fichier[len(c.Ville): c.Nom_du_Fichier.find(\".txt\")]\n",
    "    return Date"
   ]
  },
  {
   "cell_type": "code",
   "execution_count": 11,
   "id": "519ac8a6",
   "metadata": {},
   "outputs": [
    {
     "data": {
      "text/html": [
       "<div>\n",
       "<style scoped>\n",
       "    .dataframe tbody tr th:only-of-type {\n",
       "        vertical-align: middle;\n",
       "    }\n",
       "\n",
       "    .dataframe tbody tr th {\n",
       "        vertical-align: top;\n",
       "    }\n",
       "\n",
       "    .dataframe thead th {\n",
       "        text-align: right;\n",
       "    }\n",
       "</style>\n",
       "<table border=\"1\" class=\"dataframe\">\n",
       "  <thead>\n",
       "    <tr style=\"text-align: right;\">\n",
       "      <th></th>\n",
       "      <th>Nom_du_Fichier</th>\n",
       "      <th>Contenu</th>\n",
       "      <th>Ville</th>\n",
       "      <th>Date</th>\n",
       "    </tr>\n",
       "  </thead>\n",
       "  <tbody>\n",
       "    <tr>\n",
       "      <th>0</th>\n",
       "      <td>FayettevilleSep9_2019.txt</td>\n",
       "      <td>Thank you everybody. Thank you and Vice Presi...</td>\n",
       "      <td>Fayetteville</td>\n",
       "      <td>Sep9_2019</td>\n",
       "    </tr>\n",
       "    <tr>\n",
       "      <th>1</th>\n",
       "      <td>TupeloNov1_2019.txt</td>\n",
       "      <td>ell, thank you very much. And hello, Tupelo. T...</td>\n",
       "      <td>Tupelo</td>\n",
       "      <td>Nov1_2019</td>\n",
       "    </tr>\n",
       "    <tr>\n",
       "      <th>2</th>\n",
       "      <td>NewHampshireAug15_2019.txt</td>\n",
       "      <td>Thank you very much everybody. Thank you. Wow...</td>\n",
       "      <td>NewHampshire</td>\n",
       "      <td>Aug15_2019</td>\n",
       "    </tr>\n",
       "    <tr>\n",
       "      <th>3</th>\n",
       "      <td>HendersonSep13_2020.txt</td>\n",
       "      <td>Thank you, thank you. Wow. Wow, and I'm thrill...</td>\n",
       "      <td>Henderson</td>\n",
       "      <td>Sep13_2020</td>\n",
       "    </tr>\n",
       "    <tr>\n",
       "      <th>4</th>\n",
       "      <td>OhioSep21_2020.txt</td>\n",
       "      <td>Wow, that's a big crowd. This is a big crowd. ...</td>\n",
       "      <td>Ohio</td>\n",
       "      <td>Sep21_2020</td>\n",
       "    </tr>\n",
       "  </tbody>\n",
       "</table>\n",
       "</div>"
      ],
      "text/plain": [
       "               Nom_du_Fichier  \\\n",
       "0   FayettevilleSep9_2019.txt   \n",
       "1         TupeloNov1_2019.txt   \n",
       "2  NewHampshireAug15_2019.txt   \n",
       "3     HendersonSep13_2020.txt   \n",
       "4          OhioSep21_2020.txt   \n",
       "\n",
       "                                             Contenu         Ville        Date  \n",
       "0   Thank you everybody. Thank you and Vice Presi...  Fayetteville   Sep9_2019  \n",
       "1  ell, thank you very much. And hello, Tupelo. T...        Tupelo   Nov1_2019  \n",
       "2   Thank you very much everybody. Thank you. Wow...  NewHampshire  Aug15_2019  \n",
       "3  Thank you, thank you. Wow. Wow, and I'm thrill...     Henderson  Sep13_2020  \n",
       "4  Wow, that's a big crowd. This is a big crowd. ...          Ohio  Sep21_2020  "
      ]
     },
     "execution_count": 11,
     "metadata": {},
     "output_type": "execute_result"
    }
   ],
   "source": [
    "df[\"Date\"]=df.apply(separerDate, axis=1)\n",
    "df.head()"
   ]
  },
  {
   "cell_type": "code",
   "execution_count": 12,
   "id": "ef78a48d",
   "metadata": {},
   "outputs": [
    {
     "data": {
      "text/plain": [
       "Nom_du_Fichier    object\n",
       "Contenu           object\n",
       "Ville             object\n",
       "Date              object\n",
       "dtype: object"
      ]
     },
     "execution_count": 12,
     "metadata": {},
     "output_type": "execute_result"
    }
   ],
   "source": [
    "df.dtypes"
   ]
  },
  {
   "cell_type": "code",
   "execution_count": 13,
   "id": "3dcca113",
   "metadata": {},
   "outputs": [],
   "source": [
    "df[\"Date\"]=pd.to_datetime(df[\"Date\"], format=\"%b%d_%Y\")"
   ]
  },
  {
   "cell_type": "code",
   "execution_count": 14,
   "id": "904ba1e1",
   "metadata": {},
   "outputs": [
    {
     "data": {
      "text/plain": [
       "Nom_du_Fichier            object\n",
       "Contenu                   object\n",
       "Ville                     object\n",
       "Date              datetime64[ns]\n",
       "dtype: object"
      ]
     },
     "execution_count": 14,
     "metadata": {},
     "output_type": "execute_result"
    }
   ],
   "source": [
    "df.dtypes"
   ]
  },
  {
   "cell_type": "code",
   "execution_count": 15,
   "id": "3ca315b8",
   "metadata": {},
   "outputs": [
    {
     "data": {
      "text/html": [
       "<div>\n",
       "<style scoped>\n",
       "    .dataframe tbody tr th:only-of-type {\n",
       "        vertical-align: middle;\n",
       "    }\n",
       "\n",
       "    .dataframe tbody tr th {\n",
       "        vertical-align: top;\n",
       "    }\n",
       "\n",
       "    .dataframe thead th {\n",
       "        text-align: right;\n",
       "    }\n",
       "</style>\n",
       "<table border=\"1\" class=\"dataframe\">\n",
       "  <thead>\n",
       "    <tr style=\"text-align: right;\">\n",
       "      <th></th>\n",
       "      <th>Contenu</th>\n",
       "      <th>Ville</th>\n",
       "      <th>Date</th>\n",
       "    </tr>\n",
       "  </thead>\n",
       "  <tbody>\n",
       "    <tr>\n",
       "      <th>0</th>\n",
       "      <td>Thank you everybody. Thank you and Vice Presi...</td>\n",
       "      <td>Fayetteville</td>\n",
       "      <td>2019-09-09</td>\n",
       "    </tr>\n",
       "    <tr>\n",
       "      <th>1</th>\n",
       "      <td>ell, thank you very much. And hello, Tupelo. T...</td>\n",
       "      <td>Tupelo</td>\n",
       "      <td>2019-11-01</td>\n",
       "    </tr>\n",
       "    <tr>\n",
       "      <th>2</th>\n",
       "      <td>Thank you very much everybody. Thank you. Wow...</td>\n",
       "      <td>NewHampshire</td>\n",
       "      <td>2019-08-15</td>\n",
       "    </tr>\n",
       "    <tr>\n",
       "      <th>3</th>\n",
       "      <td>Thank you, thank you. Wow. Wow, and I'm thrill...</td>\n",
       "      <td>Henderson</td>\n",
       "      <td>2020-09-13</td>\n",
       "    </tr>\n",
       "    <tr>\n",
       "      <th>4</th>\n",
       "      <td>Wow, that's a big crowd. This is a big crowd. ...</td>\n",
       "      <td>Ohio</td>\n",
       "      <td>2020-09-21</td>\n",
       "    </tr>\n",
       "  </tbody>\n",
       "</table>\n",
       "</div>"
      ],
      "text/plain": [
       "                                             Contenu         Ville       Date\n",
       "0   Thank you everybody. Thank you and Vice Presi...  Fayetteville 2019-09-09\n",
       "1  ell, thank you very much. And hello, Tupelo. T...        Tupelo 2019-11-01\n",
       "2   Thank you very much everybody. Thank you. Wow...  NewHampshire 2019-08-15\n",
       "3  Thank you, thank you. Wow. Wow, and I'm thrill...     Henderson 2020-09-13\n",
       "4  Wow, that's a big crowd. This is a big crowd. ...          Ohio 2020-09-21"
      ]
     },
     "execution_count": 15,
     "metadata": {},
     "output_type": "execute_result"
    }
   ],
   "source": [
    "df.drop(\"Nom_du_Fichier\", axis=1, inplace=True)\n",
    "df.head()"
   ]
  },
  {
   "cell_type": "code",
   "execution_count": 16,
   "id": "0c80ff53",
   "metadata": {},
   "outputs": [],
   "source": [
    "df[\"Annee\"]=df.Date.dt.year\n",
    "df[\"Mois\"]=df.Date.dt.month\n",
    "df[\"Jour_du_Mois\"]=df.Date.dt.day\n",
    "df[\"Jour_de_la_Semaine\"]=df.Date.dt.weekday"
   ]
  },
  {
   "cell_type": "code",
   "execution_count": 17,
   "id": "530650ee",
   "metadata": {},
   "outputs": [
    {
     "data": {
      "text/html": [
       "<div>\n",
       "<style scoped>\n",
       "    .dataframe tbody tr th:only-of-type {\n",
       "        vertical-align: middle;\n",
       "    }\n",
       "\n",
       "    .dataframe tbody tr th {\n",
       "        vertical-align: top;\n",
       "    }\n",
       "\n",
       "    .dataframe thead th {\n",
       "        text-align: right;\n",
       "    }\n",
       "</style>\n",
       "<table border=\"1\" class=\"dataframe\">\n",
       "  <thead>\n",
       "    <tr style=\"text-align: right;\">\n",
       "      <th></th>\n",
       "      <th>Contenu</th>\n",
       "      <th>Ville</th>\n",
       "      <th>Date</th>\n",
       "      <th>Annee</th>\n",
       "      <th>Mois</th>\n",
       "      <th>Jour_du_Mois</th>\n",
       "      <th>Jour_de_la_Semaine</th>\n",
       "    </tr>\n",
       "  </thead>\n",
       "  <tbody>\n",
       "    <tr>\n",
       "      <th>0</th>\n",
       "      <td>Thank you everybody. Thank you and Vice Presi...</td>\n",
       "      <td>Fayetteville</td>\n",
       "      <td>2019-09-09</td>\n",
       "      <td>2019</td>\n",
       "      <td>9</td>\n",
       "      <td>9</td>\n",
       "      <td>0</td>\n",
       "    </tr>\n",
       "    <tr>\n",
       "      <th>1</th>\n",
       "      <td>ell, thank you very much. And hello, Tupelo. T...</td>\n",
       "      <td>Tupelo</td>\n",
       "      <td>2019-11-01</td>\n",
       "      <td>2019</td>\n",
       "      <td>11</td>\n",
       "      <td>1</td>\n",
       "      <td>4</td>\n",
       "    </tr>\n",
       "    <tr>\n",
       "      <th>2</th>\n",
       "      <td>Thank you very much everybody. Thank you. Wow...</td>\n",
       "      <td>NewHampshire</td>\n",
       "      <td>2019-08-15</td>\n",
       "      <td>2019</td>\n",
       "      <td>8</td>\n",
       "      <td>15</td>\n",
       "      <td>3</td>\n",
       "    </tr>\n",
       "    <tr>\n",
       "      <th>3</th>\n",
       "      <td>Thank you, thank you. Wow. Wow, and I'm thrill...</td>\n",
       "      <td>Henderson</td>\n",
       "      <td>2020-09-13</td>\n",
       "      <td>2020</td>\n",
       "      <td>9</td>\n",
       "      <td>13</td>\n",
       "      <td>6</td>\n",
       "    </tr>\n",
       "    <tr>\n",
       "      <th>4</th>\n",
       "      <td>Wow, that's a big crowd. This is a big crowd. ...</td>\n",
       "      <td>Ohio</td>\n",
       "      <td>2020-09-21</td>\n",
       "      <td>2020</td>\n",
       "      <td>9</td>\n",
       "      <td>21</td>\n",
       "      <td>0</td>\n",
       "    </tr>\n",
       "  </tbody>\n",
       "</table>\n",
       "</div>"
      ],
      "text/plain": [
       "                                             Contenu         Ville       Date  \\\n",
       "0   Thank you everybody. Thank you and Vice Presi...  Fayetteville 2019-09-09   \n",
       "1  ell, thank you very much. And hello, Tupelo. T...        Tupelo 2019-11-01   \n",
       "2   Thank you very much everybody. Thank you. Wow...  NewHampshire 2019-08-15   \n",
       "3  Thank you, thank you. Wow. Wow, and I'm thrill...     Henderson 2020-09-13   \n",
       "4  Wow, that's a big crowd. This is a big crowd. ...          Ohio 2020-09-21   \n",
       "\n",
       "   Annee  Mois  Jour_du_Mois  Jour_de_la_Semaine  \n",
       "0   2019     9             9                   0  \n",
       "1   2019    11             1                   4  \n",
       "2   2019     8            15                   3  \n",
       "3   2020     9            13                   6  \n",
       "4   2020     9            21                   0  "
      ]
     },
     "execution_count": 17,
     "metadata": {},
     "output_type": "execute_result"
    }
   ],
   "source": [
    "df.head()"
   ]
  },
  {
   "cell_type": "code",
   "execution_count": 18,
   "id": "324e9f13",
   "metadata": {},
   "outputs": [],
   "source": [
    "import numpy as np"
   ]
  },
  {
   "cell_type": "code",
   "execution_count": 19,
   "id": "567837c8",
   "metadata": {},
   "outputs": [
    {
     "data": {
      "text/html": [
       "<div>\n",
       "<style scoped>\n",
       "    .dataframe tbody tr th:only-of-type {\n",
       "        vertical-align: middle;\n",
       "    }\n",
       "\n",
       "    .dataframe tbody tr th {\n",
       "        vertical-align: top;\n",
       "    }\n",
       "\n",
       "    .dataframe thead th {\n",
       "        text-align: right;\n",
       "    }\n",
       "</style>\n",
       "<table border=\"1\" class=\"dataframe\">\n",
       "  <thead>\n",
       "    <tr style=\"text-align: right;\">\n",
       "      <th></th>\n",
       "      <th>Contenu</th>\n",
       "      <th>Ville</th>\n",
       "      <th>Date</th>\n",
       "      <th>Annee</th>\n",
       "      <th>Mois</th>\n",
       "      <th>Jour_du_Mois</th>\n",
       "      <th>Jour_de_la_Semaine</th>\n",
       "      <th>Weekend</th>\n",
       "    </tr>\n",
       "  </thead>\n",
       "  <tbody>\n",
       "    <tr>\n",
       "      <th>0</th>\n",
       "      <td>Thank you everybody. Thank you and Vice Presi...</td>\n",
       "      <td>Fayetteville</td>\n",
       "      <td>2019-09-09</td>\n",
       "      <td>2019</td>\n",
       "      <td>9</td>\n",
       "      <td>9</td>\n",
       "      <td>0</td>\n",
       "      <td>NON</td>\n",
       "    </tr>\n",
       "    <tr>\n",
       "      <th>1</th>\n",
       "      <td>ell, thank you very much. And hello, Tupelo. T...</td>\n",
       "      <td>Tupelo</td>\n",
       "      <td>2019-11-01</td>\n",
       "      <td>2019</td>\n",
       "      <td>11</td>\n",
       "      <td>1</td>\n",
       "      <td>4</td>\n",
       "      <td>NON</td>\n",
       "    </tr>\n",
       "    <tr>\n",
       "      <th>2</th>\n",
       "      <td>Thank you very much everybody. Thank you. Wow...</td>\n",
       "      <td>NewHampshire</td>\n",
       "      <td>2019-08-15</td>\n",
       "      <td>2019</td>\n",
       "      <td>8</td>\n",
       "      <td>15</td>\n",
       "      <td>3</td>\n",
       "      <td>NON</td>\n",
       "    </tr>\n",
       "    <tr>\n",
       "      <th>3</th>\n",
       "      <td>Thank you, thank you. Wow. Wow, and I'm thrill...</td>\n",
       "      <td>Henderson</td>\n",
       "      <td>2020-09-13</td>\n",
       "      <td>2020</td>\n",
       "      <td>9</td>\n",
       "      <td>13</td>\n",
       "      <td>6</td>\n",
       "      <td>OUI</td>\n",
       "    </tr>\n",
       "    <tr>\n",
       "      <th>4</th>\n",
       "      <td>Wow, that's a big crowd. This is a big crowd. ...</td>\n",
       "      <td>Ohio</td>\n",
       "      <td>2020-09-21</td>\n",
       "      <td>2020</td>\n",
       "      <td>9</td>\n",
       "      <td>21</td>\n",
       "      <td>0</td>\n",
       "      <td>NON</td>\n",
       "    </tr>\n",
       "  </tbody>\n",
       "</table>\n",
       "</div>"
      ],
      "text/plain": [
       "                                             Contenu         Ville       Date  \\\n",
       "0   Thank you everybody. Thank you and Vice Presi...  Fayetteville 2019-09-09   \n",
       "1  ell, thank you very much. And hello, Tupelo. T...        Tupelo 2019-11-01   \n",
       "2   Thank you very much everybody. Thank you. Wow...  NewHampshire 2019-08-15   \n",
       "3  Thank you, thank you. Wow. Wow, and I'm thrill...     Henderson 2020-09-13   \n",
       "4  Wow, that's a big crowd. This is a big crowd. ...          Ohio 2020-09-21   \n",
       "\n",
       "   Annee  Mois  Jour_du_Mois  Jour_de_la_Semaine Weekend  \n",
       "0   2019     9             9                   0     NON  \n",
       "1   2019    11             1                   4     NON  \n",
       "2   2019     8            15                   3     NON  \n",
       "3   2020     9            13                   6     OUI  \n",
       "4   2020     9            21                   0     NON  "
      ]
     },
     "execution_count": 19,
     "metadata": {},
     "output_type": "execute_result"
    }
   ],
   "source": [
    "df[\"Weekend\"]= np.where((df.Jour_de_la_Semaine==5) |(df.Jour_de_la_Semaine== 6), \"OUI\", \"NON\")\n",
    "df.head()"
   ]
  },
  {
   "cell_type": "code",
   "execution_count": 20,
   "id": "9d0df4cd",
   "metadata": {},
   "outputs": [],
   "source": [
    "df.to_csv(\"cleaned-speeches\", index=False)"
   ]
  }
 ],
 "metadata": {
  "kernelspec": {
   "display_name": "Python 3 (ipykernel)",
   "language": "python",
   "name": "python3"
  },
  "language_info": {
   "codemirror_mode": {
    "name": "ipython",
    "version": 3
   },
   "file_extension": ".py",
   "mimetype": "text/x-python",
   "name": "python",
   "nbconvert_exporter": "python",
   "pygments_lexer": "ipython3",
   "version": "3.9.7"
  }
 },
 "nbformat": 4,
 "nbformat_minor": 5
}
